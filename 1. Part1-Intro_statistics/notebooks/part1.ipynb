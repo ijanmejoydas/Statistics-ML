{
 "cells": [
  {
   "cell_type": "markdown",
   "metadata": {},
   "source": [
    "## Part 1  Topics \n",
    "- What is stats \n",
    "- Types of stats\n",
    "- Statistical modeling vs machine learning\n",
    "- Population vs sample\n",
    "- Types of data\n",
    "- Application of stats"
   ]
  },
  {
   "cell_type": "markdown",
   "metadata": {},
   "source": [
    "## STATISTICS\n",
    "\n",
    "- Statistics is the science that deals with methodologies to gather, review, analyze and draw conclusions from data. With specific Statistics tools in hand we can derive many key observations and make predictions from the data in hand. "
   ]
  },
  {
   "cell_type": "markdown",
   "metadata": {},
   "source": [
    "## statistical modeling vs machine learning\n",
    "\n",
    "- Statistical modelling is a method of mathematically approximating the world. Statistical models contain variables that can be used to explain relationships between other variables. We use hypothesis testing, confidence intervals etc to make inferences and validate our hypothesis.\n",
    "\n",
    "- Simply, we use machine learning to make predictions and we can assess its performance by how well it generalizes to new data that is has not learned yet.\n",
    "\n",
    "- read more https://www.kdnuggets.com/2019/08/statistical-modelling-vs-machine-learning.html"
   ]
  },
  {
   "cell_type": "markdown",
   "metadata": {},
   "source": [
    "<img src=\"../images/1.png\"/>"
   ]
  },
  {
   "cell_type": "markdown",
   "metadata": {},
   "source": [
    "## Population vs sample\n",
    "\n",
    "\n",
    "- Introduction to Population and Sample\n",
    "- A population often consists of a large group of specifically defined elements. For example, the population of a specific country means all the people living within the boundaries of that country.\n",
    "\n",
    "- Usually, it is not possible or practical to measure data for every element of the population under study. We randomly select a small group of elements from the population and call it a sample. Inferences about the population are then made on the basis of several samples."
   ]
  },
  {
   "cell_type": "markdown",
   "metadata": {},
   "source": [
    "## Statistics type\n",
    "\n",
    "### Descriptive Statistics:   \n",
    "- The type of statistics dealing with numbers (numerical facts, figures, or information) to describe any phenomena. These numbers are descriptive statistics. \n",
    "\n",
    "\n",
    "### Inferential statistics\n",
    "- Inferential statistics is a decision, estimate, prediction, or generalization about a population, based     on sample.\n",
    "- A population is a collection of all possible individual, objects, or measurements of interest.  \n",
    "- A sample is a portion, or part, of the population of interest.\n",
    "- Inferential statistics is used to make inferences from data whereas descriptive statistics simply    describes what’s going on in our data."
   ]
  },
  {
   "cell_type": "markdown",
   "metadata": {},
   "source": [
    "<img src=\"../images/2.JPG\"/>"
   ]
  },
  {
   "cell_type": "markdown",
   "metadata": {},
   "source": [
    "<img src=\"../images/4.JPG\"/>"
   ]
  },
  {
   "cell_type": "markdown",
   "metadata": {},
   "source": [
    "## Application of stats\n",
    "- Economics\n",
    "- Business Management and Industry\n",
    "- Social and Natural Sciences\n",
    "- Biology and Medicine\n",
    "- Research"
   ]
  },
  {
   "cell_type": "markdown",
   "metadata": {},
   "source": [
    "## Types of data\n",
    "- Categorical Data (Nominal, Ordinal)\n",
    "- Numerical Data (Discrete, Continuous, Interval, Ratio)"
   ]
  },
  {
   "cell_type": "code",
   "execution_count": null,
   "metadata": {},
   "outputs": [],
   "source": []
  }
 ],
 "metadata": {
  "kernelspec": {
   "display_name": "Python 3",
   "language": "python",
   "name": "python3"
  },
  "language_info": {
   "codemirror_mode": {
    "name": "ipython",
    "version": 3
   },
   "file_extension": ".py",
   "mimetype": "text/x-python",
   "name": "python",
   "nbconvert_exporter": "python",
   "pygments_lexer": "ipython3",
   "version": "3.7.7"
  }
 },
 "nbformat": 4,
 "nbformat_minor": 4
}
